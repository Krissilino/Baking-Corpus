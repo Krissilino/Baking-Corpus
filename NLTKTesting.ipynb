{
  "nbformat": 4,
  "nbformat_minor": 0,
  "metadata": {
    "colab": {
      "name": "NLTKTesting.ipynb",
      "provenance": [],
      "collapsed_sections": [],
      "authorship_tag": "ABX9TyOlk/xUujYtz3NqmLjYrLvI",
      "include_colab_link": true
    },
    "kernelspec": {
      "name": "python3",
      "display_name": "Python 3"
    }
  },
  "cells": [
    {
      "cell_type": "markdown",
      "metadata": {
        "id": "view-in-github",
        "colab_type": "text"
      },
      "source": [
        "<a href=\"https://colab.research.google.com/github/Krissilino/Baking-Corpus/blob/main/NLTKTesting.ipynb\" target=\"_parent\"><img src=\"https://colab.research.google.com/assets/colab-badge.svg\" alt=\"Open In Colab\"/></a>"
      ]
    },
    {
      "cell_type": "code",
      "metadata": {
        "colab": {
          "base_uri": "https://localhost:8080/"
        },
        "id": "Tdt7NxQ6HHpe",
        "outputId": "46cfc087-6408-4a17-825f-1fc432f29c95"
      },
      "source": [
        "import nltk\n",
        "nltk.download('punkt')\n",
        "nltk.download('averaged_perceptron_tagger')\n",
        "\n"
      ],
      "execution_count": 11,
      "outputs": [
        {
          "output_type": "stream",
          "text": [
            "[nltk_data] Downloading package punkt to /root/nltk_data...\n",
            "[nltk_data]   Package punkt is already up-to-date!\n",
            "[nltk_data] Downloading package averaged_perceptron_tagger to\n",
            "[nltk_data]     /root/nltk_data...\n",
            "[nltk_data]   Unzipping taggers/averaged_perceptron_tagger.zip.\n"
          ],
          "name": "stdout"
        },
        {
          "output_type": "execute_result",
          "data": {
            "text/plain": [
              "True"
            ]
          },
          "metadata": {
            "tags": []
          },
          "execution_count": 11
        }
      ]
    },
    {
      "cell_type": "code",
      "metadata": {
        "colab": {
          "base_uri": "https://localhost:8080/"
        },
        "id": "tcVu_28GJikB",
        "outputId": "872462ea-d070-4ef9-89d1-7dac13384109"
      },
      "source": [
        "val = input(\"Enter your sentence: \")\n",
        "\n",
        "text = nltk.word_tokenize(val)\n",
        "wordsntags = nltk.pos_tag(text)\n",
        "print(wordsntags)"
      ],
      "execution_count": 73,
      "outputs": [
        {
          "output_type": "stream",
          "text": [
            "Enter your sentence: Mix the chocolate with the rest of the butter\n",
            "[('Mix', 'NNP'), ('the', 'DT'), ('chocolate', 'NN'), ('with', 'IN'), ('the', 'DT'), ('rest', 'NN'), ('of', 'IN'), ('the', 'DT'), ('butter', 'NN')]\n"
          ],
          "name": "stdout"
        }
      ]
    },
    {
      "cell_type": "code",
      "metadata": {
        "colab": {
          "base_uri": "https://localhost:8080/"
        },
        "id": "ZAnO4-fNMgei",
        "outputId": "45d92d2c-c1d9-4891-dea9-a63fbd817414"
      },
      "source": [
        "\n",
        "\n",
        "# most important objects for the sentence\n",
        "verb = ''\n",
        "objects = []\n",
        "preposition = ''\n",
        "\n",
        "def ObjectFound(word):\n",
        "  objects.append(word)\n",
        "\n",
        "def VerbFound(word):\n",
        "  global verb\n",
        "  verb = word\n",
        "\n",
        "def AddToPre(word):\n",
        "  global preposition\n",
        "  preposition += word + ' '\n",
        "\n",
        "def Categorize(wordlist):\n",
        "\n",
        "  nextNNPre = False\n",
        "  for word in wordlist:\n",
        "\n",
        "    tag = word[1]\n",
        "\n",
        "    print(word[0] + ' and '+word[1])\n",
        "  \n",
        "    if 'NN' in tag and nextNNPre is True:\n",
        "      AddToPre(word[0])\n",
        "      nextNNPre = False\n",
        "      continue\n",
        "\n",
        "    if 'NN' in tag and nextNNPre is False:\n",
        "      if word is wordlist[0]:\n",
        "        VerbFound(word[0])\n",
        "      else:\n",
        "        ObjectFound(word[0])\n",
        "\n",
        "    if 'VB' in tag:\n",
        "      VerbFound(word[0])\n",
        "\n",
        "    if 'IN' in tag:\n",
        "      nextNNPre = True\n",
        "      AddToPre(word[0])\n",
        "    \n",
        "    if 'TO' in tag:\n",
        "      if 'DT' in wordlist[wordlist.index(word) + 1][1]:\n",
        "        AddToPre(word[0])\n",
        "\n",
        "    if 'DT' in tag and nextNNPre is True:\n",
        "      AddToPre(word[0])\n",
        "    \n",
        "        \n",
        "Categorize(wordsntags)\n",
        "\n",
        "print(verb)\n",
        "print(objects)\n",
        "print(preposition)\n"
      ],
      "execution_count": 74,
      "outputs": [
        {
          "output_type": "stream",
          "text": [
            "Mix and NNP\n",
            "the and DT\n",
            "chocolate and NN\n",
            "with and IN\n",
            "the and DT\n",
            "rest and NN\n",
            "of and IN\n",
            "the and DT\n",
            "butter and NN\n",
            "Mix\n",
            "['chocolate']\n",
            "with the rest of the butter \n"
          ],
          "name": "stdout"
        }
      ]
    }
  ]
}